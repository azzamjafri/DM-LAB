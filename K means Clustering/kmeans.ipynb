{
 "cells": [
  {
   "cell_type": "code",
   "execution_count": 370,
   "metadata": {},
   "outputs": [],
   "source": [
    "#read csv file\n",
    "with open('text1.csv') as file:\n",
    "    DataSet = file.read()\n",
    "DataSet = [float(i) for i in DataSet.split('\\n')]\n"
   ]
  },
  {
   "cell_type": "code",
   "execution_count": 371,
   "metadata": {},
   "outputs": [
    {
     "name": "stdout",
     "output_type": "stream",
     "text": [
      "[2.0, 3.0, 4.0, 10.0, 11.0, 12.0, 20.0, 25.0, 30.0]\n"
     ]
    }
   ],
   "source": [
    "print(DataSet)"
   ]
  },
  {
   "cell_type": "code",
   "execution_count": 372,
   "metadata": {},
   "outputs": [],
   "source": [
    "k=3"
   ]
  },
  {
   "cell_type": "code",
   "execution_count": 373,
   "metadata": {},
   "outputs": [],
   "source": [
    "def distance(a, b):\n",
    "    return abs(b-a)\n",
    "\n",
    "def show():\n",
    "    for i in clusters:\n",
    "        print(i)\n",
    "\n",
    "def avg(a):\n",
    "    k=0\n",
    "    for i in a:\n",
    "        k+=i\n",
    "    return k/(len(a))"
   ]
  },
  {
   "cell_type": "code",
   "execution_count": 374,
   "metadata": {},
   "outputs": [],
   "source": [
    "def getMeans(clusters):\n",
    "    for i in clusters:\n",
    "        currMean.append(avg(i))\n",
    "    return currMean\n",
    "    "
   ]
  },
  {
   "cell_type": "code",
   "execution_count": 375,
   "metadata": {},
   "outputs": [],
   "source": [
    "def getMeansfrommean(clusters):\n",
    "    for ix in range(len(clusters)):\n",
    "        i=clusters[ix]\n",
    "        currMean[ix] = avg(i)\n",
    "    return currMean"
   ]
  },
  {
   "cell_type": "code",
   "execution_count": 376,
   "metadata": {},
   "outputs": [],
   "source": [
    "def update(clusters, target_cluster, a):\n",
    "    clusters[target_cluster].append(a)\n",
    "    return clusters"
   ]
  },
  {
   "cell_type": "code",
   "execution_count": 377,
   "metadata": {},
   "outputs": [],
   "source": [
    "def compare(clusters, a):\n",
    "    min_d = distance(clusters[0][0], a)\n",
    "    target_cluster = 0\n",
    "    for i in range(1, k):\n",
    "        temp_d = distance(clusters[i][0], a)\n",
    "        if temp_d < min_d:\n",
    "            min_d = temp_d\n",
    "            target_cluster = i\n",
    "    update(clusters, target_cluster, a)"
   ]
  },
  {
   "cell_type": "code",
   "execution_count": 378,
   "metadata": {},
   "outputs": [],
   "source": [
    "def compare_from_mean(prevMean,a):\n",
    "    min_d = distance(prevMean[0],a)\n",
    "    target_cluster = 0\n",
    "    for i in range(1, k):\n",
    "        temp_d = distance(prevMean[i], a)\n",
    "        if temp_d < min_d:\n",
    "            min_d = temp_d\n",
    "            target_cluster = i\n",
    "    update(clusters, target_cluster, a)"
   ]
  },
  {
   "cell_type": "code",
   "execution_count": 379,
   "metadata": {},
   "outputs": [],
   "source": [
    "def create_clusters(DataSet, k):\n",
    "    for i in DataSet[k:]:\n",
    "        compare(clusters, i)\n",
    "    show()"
   ]
  },
  {
   "cell_type": "code",
   "execution_count": 380,
   "metadata": {},
   "outputs": [],
   "source": [
    "def create_clusters_from_mean(DataSet,K):\n",
    "    for i in DataSet:\n",
    "        compare_from_mean(prevMean,i)\n",
    "    show()"
   ]
  },
  {
   "cell_type": "code",
   "execution_count": 381,
   "metadata": {},
   "outputs": [
    {
     "name": "stdout",
     "output_type": "stream",
     "text": [
      "[2.0]\n",
      "[3.0]\n",
      "[4.0, 10.0, 11.0, 12.0, 20.0, 25.0, 30.0]\n",
      "[2.0, 3.0, 16.0]\n",
      "[-1, -1, -1]\n",
      "[2.0]\n",
      "[3.0, 4.0]\n",
      "[10.0, 11.0, 12.0, 20.0, 25.0, 30.0]\n",
      "[2.0, 3.5, 18.0]\n",
      "[2.0, 3.5, 18.0]\n"
     ]
    }
   ],
   "source": [
    "clusters = [[i] for i in DataSet[:k]]\n",
    "prevMean=[]\n",
    "currMean=[]\n",
    "for i in range(0,k):\n",
    "    prevMean.append(-1)\n",
    "create_clusters(DataSet,3)\n",
    "getMeans(clusters)\n",
    "print(currMean)\n",
    "print(prevMean)\n",
    "while(currMean != prevMean):\n",
    "    clusters = [[],[],[]]\n",
    "    prevMean=currMean\n",
    "    create_clusters_from_mean(DataSet,3)\n",
    "    getMeansfrommean(clusters)\n",
    "    print(currMean)\n",
    "    print(prevMean)"
   ]
  },
  {
   "cell_type": "code",
   "execution_count": null,
   "metadata": {},
   "outputs": [],
   "source": []
  },
  {
   "cell_type": "code",
   "execution_count": null,
   "metadata": {},
   "outputs": [],
   "source": []
  },
  {
   "cell_type": "code",
   "execution_count": null,
   "metadata": {},
   "outputs": [],
   "source": []
  }
 ],
 "metadata": {
  "kernelspec": {
   "display_name": "Python 3",
   "language": "python",
   "name": "python3"
  },
  "language_info": {
   "codemirror_mode": {
    "name": "ipython",
    "version": 3
   },
   "file_extension": ".py",
   "mimetype": "text/x-python",
   "name": "python",
   "nbconvert_exporter": "python",
   "pygments_lexer": "ipython3",
   "version": "3.6.5"
  }
 },
 "nbformat": 4,
 "nbformat_minor": 2
}
